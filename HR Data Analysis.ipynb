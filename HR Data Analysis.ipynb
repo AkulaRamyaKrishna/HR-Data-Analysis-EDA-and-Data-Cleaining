{
 "cells": [
  {
   "cell_type": "code",
   "execution_count": 34,
   "id": "baf6abc0-e4eb-4678-a78e-f8f312808e0d",
   "metadata": {},
   "outputs": [],
   "source": [
    "import numpy as np\n",
    "import pandas as pd\n",
    "import matplotlib.pyplot as plt\n",
    "import seaborn as sns"
   ]
  },
  {
   "cell_type": "code",
   "execution_count": 35,
   "id": "b99c3f31-0ec9-431f-ac5d-b68870d36d1c",
   "metadata": {},
   "outputs": [],
   "source": [
    "df = pd.read_csv('synthetic_HR_dataset.csv')"
   ]
  },
  {
   "cell_type": "code",
   "execution_count": 36,
   "id": "f9012a0c-de04-46f8-a6e3-deac5f8fb2f8",
   "metadata": {},
   "outputs": [
    {
     "data": {
      "text/html": [
       "<div>\n",
       "<style scoped>\n",
       "    .dataframe tbody tr th:only-of-type {\n",
       "        vertical-align: middle;\n",
       "    }\n",
       "\n",
       "    .dataframe tbody tr th {\n",
       "        vertical-align: top;\n",
       "    }\n",
       "\n",
       "    .dataframe thead th {\n",
       "        text-align: right;\n",
       "    }\n",
       "</style>\n",
       "<table border=\"1\" class=\"dataframe\">\n",
       "  <thead>\n",
       "    <tr style=\"text-align: right;\">\n",
       "      <th></th>\n",
       "      <th>Employee_ID</th>\n",
       "      <th>Name</th>\n",
       "      <th>Department</th>\n",
       "      <th>Date_of_Joining</th>\n",
       "      <th>Age</th>\n",
       "      <th>Gender</th>\n",
       "      <th>Salary</th>\n",
       "      <th>Experience_Years</th>\n",
       "      <th>Last_Performance_Score</th>\n",
       "      <th>Attrition</th>\n",
       "      <th>City</th>\n",
       "    </tr>\n",
       "  </thead>\n",
       "  <tbody>\n",
       "    <tr>\n",
       "      <th>0</th>\n",
       "      <td>1574</td>\n",
       "      <td>Caleb</td>\n",
       "      <td>Marketing</td>\n",
       "      <td>2029-07-21</td>\n",
       "      <td>58</td>\n",
       "      <td>Other</td>\n",
       "      <td>65724</td>\n",
       "      <td>0</td>\n",
       "      <td>3.1</td>\n",
       "      <td>No</td>\n",
       "      <td>Chennai</td>\n",
       "    </tr>\n",
       "    <tr>\n",
       "      <th>1</th>\n",
       "      <td>2612</td>\n",
       "      <td>Christopher</td>\n",
       "      <td>Marketing</td>\n",
       "      <td>2017-07-11</td>\n",
       "      <td>56</td>\n",
       "      <td>Male</td>\n",
       "      <td>55386</td>\n",
       "      <td>8</td>\n",
       "      <td>2.9</td>\n",
       "      <td>Yes</td>\n",
       "      <td>Chennai</td>\n",
       "    </tr>\n",
       "    <tr>\n",
       "      <th>2</th>\n",
       "      <td>2769</td>\n",
       "      <td>Dale</td>\n",
       "      <td>HR</td>\n",
       "      <td>2015-10-06</td>\n",
       "      <td>31</td>\n",
       "      <td>Male</td>\n",
       "      <td>86909</td>\n",
       "      <td>10</td>\n",
       "      <td>3.3</td>\n",
       "      <td>No</td>\n",
       "      <td>Bangalore</td>\n",
       "    </tr>\n",
       "    <tr>\n",
       "      <th>3</th>\n",
       "      <td>1201</td>\n",
       "      <td>Frank</td>\n",
       "      <td>Marketing</td>\n",
       "      <td>2016-05-31</td>\n",
       "      <td>34</td>\n",
       "      <td>Female</td>\n",
       "      <td>36725</td>\n",
       "      <td>9</td>\n",
       "      <td>3.1</td>\n",
       "      <td>No</td>\n",
       "      <td>Bangalore</td>\n",
       "    </tr>\n",
       "    <tr>\n",
       "      <th>4</th>\n",
       "      <td>1463</td>\n",
       "      <td>Eric</td>\n",
       "      <td>IT</td>\n",
       "      <td>2021-02-06</td>\n",
       "      <td>34</td>\n",
       "      <td>NaN</td>\n",
       "      <td>98698</td>\n",
       "      <td>4</td>\n",
       "      <td>2.2</td>\n",
       "      <td>Yes</td>\n",
       "      <td>Mumbai</td>\n",
       "    </tr>\n",
       "  </tbody>\n",
       "</table>\n",
       "</div>"
      ],
      "text/plain": [
       "   Employee_ID         Name Department Date_of_Joining  Age  Gender  Salary  \\\n",
       "0         1574        Caleb  Marketing      2029-07-21   58   Other   65724   \n",
       "1         2612  Christopher  Marketing      2017-07-11   56    Male   55386   \n",
       "2         2769         Dale         HR      2015-10-06   31    Male   86909   \n",
       "3         1201        Frank  Marketing      2016-05-31   34  Female   36725   \n",
       "4         1463         Eric         IT      2021-02-06   34     NaN   98698   \n",
       "\n",
       "   Experience_Years  Last_Performance_Score Attrition       City  \n",
       "0                 0                     3.1        No    Chennai  \n",
       "1                 8                     2.9       Yes    Chennai  \n",
       "2                10                     3.3        No  Bangalore  \n",
       "3                 9                     3.1        No  Bangalore  \n",
       "4                 4                     2.2       Yes     Mumbai  "
      ]
     },
     "execution_count": 36,
     "metadata": {},
     "output_type": "execute_result"
    }
   ],
   "source": [
    "df.head()"
   ]
  },
  {
   "cell_type": "code",
   "execution_count": 37,
   "id": "56bf05b0-439b-4f13-9010-379a0dc16088",
   "metadata": {},
   "outputs": [
    {
     "data": {
      "text/plain": [
       "(1007, 11)"
      ]
     },
     "execution_count": 37,
     "metadata": {},
     "output_type": "execute_result"
    }
   ],
   "source": [
    "df.shape"
   ]
  },
  {
   "cell_type": "code",
   "execution_count": 38,
   "id": "a849b440-c153-4055-96c4-2250f1fefed5",
   "metadata": {},
   "outputs": [
    {
     "data": {
      "text/html": [
       "<div>\n",
       "<style scoped>\n",
       "    .dataframe tbody tr th:only-of-type {\n",
       "        vertical-align: middle;\n",
       "    }\n",
       "\n",
       "    .dataframe tbody tr th {\n",
       "        vertical-align: top;\n",
       "    }\n",
       "\n",
       "    .dataframe thead th {\n",
       "        text-align: right;\n",
       "    }\n",
       "</style>\n",
       "<table border=\"1\" class=\"dataframe\">\n",
       "  <thead>\n",
       "    <tr style=\"text-align: right;\">\n",
       "      <th></th>\n",
       "      <th>Employee_ID</th>\n",
       "      <th>Age</th>\n",
       "      <th>Salary</th>\n",
       "      <th>Experience_Years</th>\n",
       "      <th>Last_Performance_Score</th>\n",
       "    </tr>\n",
       "  </thead>\n",
       "  <tbody>\n",
       "    <tr>\n",
       "      <th>count</th>\n",
       "      <td>1007.000000</td>\n",
       "      <td>1007.000000</td>\n",
       "      <td>1007.000000</td>\n",
       "      <td>1007.000000</td>\n",
       "      <td>960.000000</td>\n",
       "    </tr>\n",
       "    <tr>\n",
       "      <th>mean</th>\n",
       "      <td>1988.876862</td>\n",
       "      <td>40.825223</td>\n",
       "      <td>85142.279047</td>\n",
       "      <td>4.720953</td>\n",
       "      <td>3.482396</td>\n",
       "    </tr>\n",
       "    <tr>\n",
       "      <th>std</th>\n",
       "      <td>568.468188</td>\n",
       "      <td>12.550623</td>\n",
       "      <td>93155.765378</td>\n",
       "      <td>3.053953</td>\n",
       "      <td>0.871476</td>\n",
       "    </tr>\n",
       "    <tr>\n",
       "      <th>min</th>\n",
       "      <td>1000.000000</td>\n",
       "      <td>15.000000</td>\n",
       "      <td>30031.000000</td>\n",
       "      <td>0.000000</td>\n",
       "      <td>2.000000</td>\n",
       "    </tr>\n",
       "    <tr>\n",
       "      <th>25%</th>\n",
       "      <td>1506.500000</td>\n",
       "      <td>31.000000</td>\n",
       "      <td>51046.500000</td>\n",
       "      <td>2.000000</td>\n",
       "      <td>2.700000</td>\n",
       "    </tr>\n",
       "    <tr>\n",
       "      <th>50%</th>\n",
       "      <td>1969.000000</td>\n",
       "      <td>40.000000</td>\n",
       "      <td>73006.000000</td>\n",
       "      <td>5.000000</td>\n",
       "      <td>3.400000</td>\n",
       "    </tr>\n",
       "    <tr>\n",
       "      <th>75%</th>\n",
       "      <td>2478.500000</td>\n",
       "      <td>50.000000</td>\n",
       "      <td>98164.500000</td>\n",
       "      <td>7.000000</td>\n",
       "      <td>4.200000</td>\n",
       "    </tr>\n",
       "    <tr>\n",
       "      <th>max</th>\n",
       "      <td>2999.000000</td>\n",
       "      <td>100.000000</td>\n",
       "      <td>1000000.000000</td>\n",
       "      <td>10.000000</td>\n",
       "      <td>5.000000</td>\n",
       "    </tr>\n",
       "  </tbody>\n",
       "</table>\n",
       "</div>"
      ],
      "text/plain": [
       "       Employee_ID          Age          Salary  Experience_Years  \\\n",
       "count  1007.000000  1007.000000     1007.000000       1007.000000   \n",
       "mean   1988.876862    40.825223    85142.279047          4.720953   \n",
       "std     568.468188    12.550623    93155.765378          3.053953   \n",
       "min    1000.000000    15.000000    30031.000000          0.000000   \n",
       "25%    1506.500000    31.000000    51046.500000          2.000000   \n",
       "50%    1969.000000    40.000000    73006.000000          5.000000   \n",
       "75%    2478.500000    50.000000    98164.500000          7.000000   \n",
       "max    2999.000000   100.000000  1000000.000000         10.000000   \n",
       "\n",
       "       Last_Performance_Score  \n",
       "count              960.000000  \n",
       "mean                 3.482396  \n",
       "std                  0.871476  \n",
       "min                  2.000000  \n",
       "25%                  2.700000  \n",
       "50%                  3.400000  \n",
       "75%                  4.200000  \n",
       "max                  5.000000  "
      ]
     },
     "execution_count": 38,
     "metadata": {},
     "output_type": "execute_result"
    }
   ],
   "source": [
    "df.describe()"
   ]
  },
  {
   "cell_type": "markdown",
   "id": "8c8b8f1d-9f0b-4079-9fdd-8301e9987bf2",
   "metadata": {},
   "source": [
    "# Identifying and Handling Null values"
   ]
  },
  {
   "cell_type": "code",
   "execution_count": 39,
   "id": "41c6525f-424c-46a7-acfa-38a9d9a1223a",
   "metadata": {},
   "outputs": [
    {
     "data": {
      "text/plain": [
       "Employee_ID                 0\n",
       "Name                        0\n",
       "Department                  0\n",
       "Date_of_Joining             0\n",
       "Age                         0\n",
       "Gender                    259\n",
       "Salary                      0\n",
       "Experience_Years            0\n",
       "Last_Performance_Score     47\n",
       "Attrition                   0\n",
       "City                      162\n",
       "dtype: int64"
      ]
     },
     "execution_count": 39,
     "metadata": {},
     "output_type": "execute_result"
    }
   ],
   "source": [
    "df.isnull().sum()"
   ]
  },
  {
   "cell_type": "code",
   "execution_count": 40,
   "id": "d18c26c8-0047-4ce7-a574-53c3e0aa5233",
   "metadata": {},
   "outputs": [
    {
     "data": {
      "text/plain": [
       "0    Male\n",
       "Name: Gender, dtype: object"
      ]
     },
     "execution_count": 40,
     "metadata": {},
     "output_type": "execute_result"
    }
   ],
   "source": [
    "mode_val = df['Gender'].mode()\n",
    "mode_val"
   ]
  },
  {
   "cell_type": "code",
   "execution_count": 41,
   "id": "3aec32f4-e206-4799-bed0-f5145bb657df",
   "metadata": {},
   "outputs": [],
   "source": [
    "# Fill nulls with mode\n",
    "df['Gender'] = df['Gender'].fillna('Male')"
   ]
  },
  {
   "cell_type": "code",
   "execution_count": 42,
   "id": "7da89bdb-1043-4e00-a9a0-f04ab1a14e8d",
   "metadata": {},
   "outputs": [
    {
     "data": {
      "text/plain": [
       "Employee_ID                 0\n",
       "Name                        0\n",
       "Department                  0\n",
       "Date_of_Joining             0\n",
       "Age                         0\n",
       "Gender                      0\n",
       "Salary                      0\n",
       "Experience_Years            0\n",
       "Last_Performance_Score     47\n",
       "Attrition                   0\n",
       "City                      162\n",
       "dtype: int64"
      ]
     },
     "execution_count": 42,
     "metadata": {},
     "output_type": "execute_result"
    }
   ],
   "source": [
    "df.isnull().sum()"
   ]
  },
  {
   "cell_type": "code",
   "execution_count": 43,
   "id": "bcb2cc46-921f-42ce-93c2-ca728f73776a",
   "metadata": {},
   "outputs": [],
   "source": [
    "median_score = df['Last_Performance_Score'].median()\n",
    "df['Last_Performance_Score'] = df['Last_Performance_Score'].fillna(median_score)"
   ]
  },
  {
   "cell_type": "code",
   "execution_count": 44,
   "id": "6cdd883f-890c-4578-a6cf-d3989148ac41",
   "metadata": {},
   "outputs": [
    {
     "data": {
      "text/plain": [
       "Employee_ID                 0\n",
       "Name                        0\n",
       "Department                  0\n",
       "Date_of_Joining             0\n",
       "Age                         0\n",
       "Gender                      0\n",
       "Salary                      0\n",
       "Experience_Years            0\n",
       "Last_Performance_Score      0\n",
       "Attrition                   0\n",
       "City                      162\n",
       "dtype: int64"
      ]
     },
     "execution_count": 44,
     "metadata": {},
     "output_type": "execute_result"
    }
   ],
   "source": [
    "df.isnull().sum()"
   ]
  },
  {
   "cell_type": "code",
   "execution_count": 45,
   "id": "cb7e3130-9230-4539-a30e-93d901d7db5a",
   "metadata": {},
   "outputs": [],
   "source": [
    "most_common_city = df['City'].mode()[0]\n",
    "df['City'] = df['City'].fillna(most_common_city)"
   ]
  },
  {
   "cell_type": "code",
   "execution_count": 46,
   "id": "90b5934c-32dd-4e13-be3b-4ecaa7c6de58",
   "metadata": {},
   "outputs": [
    {
     "data": {
      "text/plain": [
       "Employee_ID               0\n",
       "Name                      0\n",
       "Department                0\n",
       "Date_of_Joining           0\n",
       "Age                       0\n",
       "Gender                    0\n",
       "Salary                    0\n",
       "Experience_Years          0\n",
       "Last_Performance_Score    0\n",
       "Attrition                 0\n",
       "City                      0\n",
       "dtype: int64"
      ]
     },
     "execution_count": 46,
     "metadata": {},
     "output_type": "execute_result"
    }
   ],
   "source": [
    "df.isnull().sum()"
   ]
  },
  {
   "cell_type": "markdown",
   "id": "e547eacb-3e27-491a-b09c-4bc2058174de",
   "metadata": {},
   "source": [
    "# Identifying and Handling Duplicate records"
   ]
  },
  {
   "cell_type": "code",
   "execution_count": 47,
   "id": "1a68840e-4dd2-46cd-9273-6ae2145ca6ee",
   "metadata": {},
   "outputs": [
    {
     "data": {
      "text/plain": [
       "np.int64(9)"
      ]
     },
     "execution_count": 47,
     "metadata": {},
     "output_type": "execute_result"
    }
   ],
   "source": [
    "df.duplicated().sum()"
   ]
  },
  {
   "cell_type": "code",
   "execution_count": 48,
   "id": "c37d1927-e126-4201-9c48-7c286fb43ee2",
   "metadata": {},
   "outputs": [
    {
     "data": {
      "text/html": [
       "<div>\n",
       "<style scoped>\n",
       "    .dataframe tbody tr th:only-of-type {\n",
       "        vertical-align: middle;\n",
       "    }\n",
       "\n",
       "    .dataframe tbody tr th {\n",
       "        vertical-align: top;\n",
       "    }\n",
       "\n",
       "    .dataframe thead th {\n",
       "        text-align: right;\n",
       "    }\n",
       "</style>\n",
       "<table border=\"1\" class=\"dataframe\">\n",
       "  <thead>\n",
       "    <tr style=\"text-align: right;\">\n",
       "      <th></th>\n",
       "      <th>Employee_ID</th>\n",
       "      <th>Name</th>\n",
       "      <th>Department</th>\n",
       "      <th>Date_of_Joining</th>\n",
       "      <th>Age</th>\n",
       "      <th>Gender</th>\n",
       "      <th>Salary</th>\n",
       "      <th>Experience_Years</th>\n",
       "      <th>Last_Performance_Score</th>\n",
       "      <th>Attrition</th>\n",
       "      <th>City</th>\n",
       "    </tr>\n",
       "  </thead>\n",
       "  <tbody>\n",
       "    <tr>\n",
       "      <th>201</th>\n",
       "      <td>2739</td>\n",
       "      <td>Ronald</td>\n",
       "      <td>hr</td>\n",
       "      <td>2019-03-14</td>\n",
       "      <td>29</td>\n",
       "      <td>Male</td>\n",
       "      <td>92562</td>\n",
       "      <td>6</td>\n",
       "      <td>2.2</td>\n",
       "      <td>Yes</td>\n",
       "      <td>Hyderabad</td>\n",
       "    </tr>\n",
       "    <tr>\n",
       "      <th>281</th>\n",
       "      <td>2898</td>\n",
       "      <td>Keith</td>\n",
       "      <td>HR</td>\n",
       "      <td>2020-11-27</td>\n",
       "      <td>40</td>\n",
       "      <td>Male</td>\n",
       "      <td>67876</td>\n",
       "      <td>5</td>\n",
       "      <td>4.7</td>\n",
       "      <td>No</td>\n",
       "      <td>Bangalore</td>\n",
       "    </tr>\n",
       "    <tr>\n",
       "      <th>500</th>\n",
       "      <td>2603</td>\n",
       "      <td>Shannon</td>\n",
       "      <td>Marketing</td>\n",
       "      <td>2017-11-03</td>\n",
       "      <td>37</td>\n",
       "      <td>Male</td>\n",
       "      <td>96830</td>\n",
       "      <td>8</td>\n",
       "      <td>4.8</td>\n",
       "      <td>Yes</td>\n",
       "      <td>Hyderabad</td>\n",
       "    </tr>\n",
       "    <tr>\n",
       "      <th>594</th>\n",
       "      <td>2350</td>\n",
       "      <td>Diana</td>\n",
       "      <td>hr</td>\n",
       "      <td>2019-09-18</td>\n",
       "      <td>53</td>\n",
       "      <td>Male</td>\n",
       "      <td>64917</td>\n",
       "      <td>6</td>\n",
       "      <td>2.3</td>\n",
       "      <td>Yes</td>\n",
       "      <td>Delhi</td>\n",
       "    </tr>\n",
       "    <tr>\n",
       "      <th>749</th>\n",
       "      <td>1816</td>\n",
       "      <td>Amanda</td>\n",
       "      <td>Sales</td>\n",
       "      <td>2021-10-09</td>\n",
       "      <td>48</td>\n",
       "      <td>Male</td>\n",
       "      <td>31759</td>\n",
       "      <td>4</td>\n",
       "      <td>4.4</td>\n",
       "      <td>No</td>\n",
       "      <td>Hyderabad</td>\n",
       "    </tr>\n",
       "    <tr>\n",
       "      <th>821</th>\n",
       "      <td>2851</td>\n",
       "      <td>Melinda</td>\n",
       "      <td>hr</td>\n",
       "      <td>2018-08-26</td>\n",
       "      <td>48</td>\n",
       "      <td>Male</td>\n",
       "      <td>38387</td>\n",
       "      <td>7</td>\n",
       "      <td>3.2</td>\n",
       "      <td>Yes</td>\n",
       "      <td>Hyderabad</td>\n",
       "    </tr>\n",
       "    <tr>\n",
       "      <th>827</th>\n",
       "      <td>2363</td>\n",
       "      <td>Leslie</td>\n",
       "      <td>IT</td>\n",
       "      <td>2020-07-01</td>\n",
       "      <td>43</td>\n",
       "      <td>Male</td>\n",
       "      <td>48851</td>\n",
       "      <td>5</td>\n",
       "      <td>3.0</td>\n",
       "      <td>No</td>\n",
       "      <td>Bangalore</td>\n",
       "    </tr>\n",
       "    <tr>\n",
       "      <th>863</th>\n",
       "      <td>2650</td>\n",
       "      <td>Sarah</td>\n",
       "      <td>HR</td>\n",
       "      <td>2020-01-27</td>\n",
       "      <td>32</td>\n",
       "      <td>Other</td>\n",
       "      <td>118514</td>\n",
       "      <td>5</td>\n",
       "      <td>4.0</td>\n",
       "      <td>No</td>\n",
       "      <td>Bangalore</td>\n",
       "    </tr>\n",
       "    <tr>\n",
       "      <th>978</th>\n",
       "      <td>1875</td>\n",
       "      <td>Robert</td>\n",
       "      <td>hr</td>\n",
       "      <td>2025-03-27</td>\n",
       "      <td>29</td>\n",
       "      <td>Female</td>\n",
       "      <td>57952</td>\n",
       "      <td>0</td>\n",
       "      <td>2.3</td>\n",
       "      <td>No</td>\n",
       "      <td>Chennai</td>\n",
       "    </tr>\n",
       "  </tbody>\n",
       "</table>\n",
       "</div>"
      ],
      "text/plain": [
       "     Employee_ID     Name Department Date_of_Joining  Age  Gender  Salary  \\\n",
       "201         2739   Ronald         hr      2019-03-14   29    Male   92562   \n",
       "281         2898    Keith         HR      2020-11-27   40    Male   67876   \n",
       "500         2603  Shannon  Marketing      2017-11-03   37    Male   96830   \n",
       "594         2350    Diana         hr      2019-09-18   53    Male   64917   \n",
       "749         1816   Amanda      Sales      2021-10-09   48    Male   31759   \n",
       "821         2851  Melinda         hr      2018-08-26   48    Male   38387   \n",
       "827         2363   Leslie         IT      2020-07-01   43    Male   48851   \n",
       "863         2650    Sarah         HR      2020-01-27   32   Other  118514   \n",
       "978         1875   Robert         hr      2025-03-27   29  Female   57952   \n",
       "\n",
       "     Experience_Years  Last_Performance_Score Attrition       City  \n",
       "201                 6                     2.2       Yes  Hyderabad  \n",
       "281                 5                     4.7        No  Bangalore  \n",
       "500                 8                     4.8       Yes  Hyderabad  \n",
       "594                 6                     2.3       Yes      Delhi  \n",
       "749                 4                     4.4        No  Hyderabad  \n",
       "821                 7                     3.2       Yes  Hyderabad  \n",
       "827                 5                     3.0        No  Bangalore  \n",
       "863                 5                     4.0        No  Bangalore  \n",
       "978                 0                     2.3        No    Chennai  "
      ]
     },
     "execution_count": 48,
     "metadata": {},
     "output_type": "execute_result"
    }
   ],
   "source": [
    "df[df.duplicated()]"
   ]
  },
  {
   "cell_type": "code",
   "execution_count": 49,
   "id": "435c8f2c-bd06-4ebe-82e2-f86643ce3cca",
   "metadata": {},
   "outputs": [],
   "source": [
    "df = df.drop_duplicates()"
   ]
  },
  {
   "cell_type": "code",
   "execution_count": 50,
   "id": "fd06aa2e-00d7-4ada-8f90-632442d2fdca",
   "metadata": {},
   "outputs": [
    {
     "data": {
      "text/plain": [
       "np.int64(0)"
      ]
     },
     "execution_count": 50,
     "metadata": {},
     "output_type": "execute_result"
    }
   ],
   "source": [
    "df.duplicated().sum()"
   ]
  },
  {
   "cell_type": "markdown",
   "id": "088f237e-4699-4690-afcf-17791a4086d7",
   "metadata": {},
   "source": [
    "# Identifying and Handling Outliers"
   ]
  },
  {
   "cell_type": "code",
   "execution_count": 51,
   "id": "88020a28-7475-40be-a906-356e610389d2",
   "metadata": {},
   "outputs": [],
   "source": [
    "df1 = df.copy()"
   ]
  },
  {
   "cell_type": "code",
   "execution_count": 52,
   "id": "3f4475a5-70fc-48c7-b20b-3bbef1b055be",
   "metadata": {},
   "outputs": [
    {
     "data": {
      "text/plain": [
       "<Axes: xlabel='Age'>"
      ]
     },
     "execution_count": 52,
     "metadata": {},
     "output_type": "execute_result"
    },
    {
     "data": {
      "image/png": "[encoded data removed]",
      "text/plain": [
       "<Figure size 640x480 with 1 Axes>"
      ]
     },
     "metadata": {},
     "output_type": "display_data"
    }
   ],
   "source": [
    "sns.boxplot(x = 'Age', data = df1)"
   ]
  },
  {
   "cell_type": "markdown",
   "id": "6f326ba8-9c0d-4e8c-a478-86a8de616cb8",
   "metadata": {},
   "source": [
    "### Deleting records with Outliers"
   ]
  },
  {
   "cell_type": "code",
   "execution_count": 53,
   "id": "92d34d6a-34a0-4975-b3a8-273bd9ee8ec2",
   "metadata": {},
   "outputs": [],
   "source": [
    "Q1_age = df1['Age'].quantile(0.25)\n",
    "Q3_age = df1['Age'].quantile(0.75)\n",
    "IQR_age = Q3_age - Q1_age\n",
    "df1 = df1[(df['Age'] >= Q1_age - 1.5 * IQR_age) & (df1['Age'] <= Q3_age + 1.5 * IQR_age)]"
   ]
  },
  {
   "cell_type": "code",
   "execution_count": 54,
   "id": "5b7cb2d0-f7a0-40a4-9dfc-92335441a4ac",
   "metadata": {},
   "outputs": [
    {
     "data": {
      "text/plain": [
       "<Axes: xlabel='Age'>"
      ]
     },
     "execution_count": 54,
     "metadata": {},
     "output_type": "execute_result"
    },
    {
     "data": {
      "image/png": "[encoded data removed]",
      "text/plain": [
       "<Figure size 640x480 with 1 Axes>"
      ]
     },
     "metadata": {},
     "output_type": "display_data"
    }
   ],
   "source": [
    "sns.boxplot(x = 'Age', data = df1)"
   ]
  },
  {
   "cell_type": "code",
   "execution_count": 55,
   "id": "3c36fa73-8a16-4194-bd60-b0dc80e0d19e",
   "metadata": {},
   "outputs": [
    {
     "data": {
      "text/plain": [
       "<Axes: xlabel='Salary'>"
      ]
     },
     "execution_count": 55,
     "metadata": {},
     "output_type": "execute_result"
    },
    {
     "data": {
      "image/png": "[encoded data removed]",
      "text/plain": [
       "<Figure size 640x480 with 1 Axes>"
      ]
     },
     "metadata": {},
     "output_type": "display_data"
    }
   ],
   "source": [
    "sns.boxplot(x = 'Salary', data = df1)"
   ]
  },
  {
   "cell_type": "code",
   "execution_count": 56,
   "id": "9b75d6b3-502a-48d6-8b06-8acd82eb94ad",
   "metadata": {},
   "outputs": [],
   "source": [
    "Q1_salary = df1['Salary'].quantile(0.25)\n",
    "Q3_salary = df1['Salary'].quantile(0.75)\n",
    "IQR_salary = Q3_salary - Q1_salary\n",
    "\n",
    "df1 = df1[(df1['Salary'] >= Q1_salary - 1.5 * IQR_salary) & (df1['Salary'] <= Q3_salary + 1.5 * IQR_salary)]"
   ]
  },
  {
   "cell_type": "code",
   "execution_count": 57,
   "id": "c8f7b8e4-5dae-4786-b7bd-cbae61718415",
   "metadata": {},
   "outputs": [
    {
     "data": {
      "text/plain": [
       "<Axes: xlabel='Salary'>"
      ]
     },
     "execution_count": 57,
     "metadata": {},
     "output_type": "execute_result"
    },
    {
     "data": {
      "image/png": "[encoded data removed]",
      "text/plain": [
       "<Figure size 640x480 with 1 Axes>"
      ]
     },
     "metadata": {},
     "output_type": "display_data"
    }
   ],
   "source": [
    "sns.boxplot(x = 'Salary', data = df1)"
   ]
  },
  {
   "cell_type": "code",
   "execution_count": 58,
   "id": "e2dcfd6e-5e37-4159-ac86-790a5d3d63ff",
   "metadata": {},
   "outputs": [
    {
     "data": {
      "text/plain": [
       "(970, 11)"
      ]
     },
     "execution_count": 58,
     "metadata": {},
     "output_type": "execute_result"
    }
   ],
   "source": [
    "df1.shape"
   ]
  },
  {
   "cell_type": "markdown",
   "id": "dcca5edb-219c-4c91-ba7f-e5e3f9583294",
   "metadata": {},
   "source": [
    "### Repalcing Outliers with median values"
   ]
  },
  {
   "cell_type": "code",
   "execution_count": 59,
   "id": "cfd7a697-92f6-426d-a233-4d9615b4f67e",
   "metadata": {},
   "outputs": [
    {
     "data": {
      "text/plain": [
       "40.0"
      ]
     },
     "execution_count": 59,
     "metadata": {},
     "output_type": "execute_result"
    }
   ],
   "source": [
    "df2 = df.copy()\n",
    "medain_age = df2['Age'].median()\n",
    "medain_age"
   ]
  },
  {
   "cell_type": "code",
   "execution_count": 60,
   "id": "a1ecbda1-9042-4384-802f-b17ddbaa59ea",
   "metadata": {},
   "outputs": [
    {
     "data": {
      "text/plain": [
       "<Axes: xlabel='Age'>"
      ]
     },
     "execution_count": 60,
     "metadata": {},
     "output_type": "execute_result"
    },
    {
     "data": {
      "image/png": "[encoded data removed]",
      "text/plain": [
       "<Figure size 640x480 with 1 Axes>"
      ]
     },
     "metadata": {},
     "output_type": "display_data"
    }
   ],
   "source": [
    "sns.violinplot(x = 'Age' ,data = df2)"
   ]
  },
  {
   "cell_type": "code",
   "execution_count": 61,
   "id": "2cf76ce3-9859-446b-ae4a-d45986d95b7d",
   "metadata": {},
   "outputs": [
    {
     "data": {
      "text/plain": [
       "(998, 11)"
      ]
     },
     "execution_count": 61,
     "metadata": {},
     "output_type": "execute_result"
    }
   ],
   "source": [
    "df2.shape"
   ]
  },
  {
   "cell_type": "code",
   "execution_count": 62,
   "id": "4bf68b7a-2ff0-4e60-8a44-aa85d5000e79",
   "metadata": {},
   "outputs": [],
   "source": [
    "df2.loc[(df2['Age'] < Q3_age - 1.5 * IQR_age) | (df2['Age'] > Q1_age + 1.5 * IQR_age),'Age'] = medain_age"
   ]
  },
  {
   "cell_type": "code",
   "execution_count": 63,
   "id": "7052a611-7c18-4bdf-8811-eaa4982c39a2",
   "metadata": {},
   "outputs": [
    {
     "data": {
      "text/plain": [
       "<Axes: xlabel='Age'>"
      ]
     },
     "execution_count": 63,
     "metadata": {},
     "output_type": "execute_result"
    },
    {
     "data": {
      "image/png": "[encoded data removed]",
      "text/plain": [
       "<Figure size 640x480 with 1 Axes>"
      ]
     },
     "metadata": {},
     "output_type": "display_data"
    }
   ],
   "source": [
    "sns.violinplot(x = 'Age',data = df2)"
   ]
  },
  {
   "cell_type": "code",
   "execution_count": 64,
   "id": "068dc16f-657e-4c8a-b20e-73997fe32bbf",
   "metadata": {},
   "outputs": [
    {
     "data": {
      "text/plain": [
       "(998, 11)"
      ]
     },
     "execution_count": 64,
     "metadata": {},
     "output_type": "execute_result"
    }
   ],
   "source": [
    "df2.shape"
   ]
  },
  {
   "cell_type": "code",
   "execution_count": 65,
   "id": "43320094-42d8-4bb9-bf17-8c18a55e1c18",
   "metadata": {},
   "outputs": [
    {
     "data": {
      "text/plain": [
       "73080.0"
      ]
     },
     "execution_count": 65,
     "metadata": {},
     "output_type": "execute_result"
    }
   ],
   "source": [
    "median_sal = df['Salary'].median()\n",
    "median_sal"
   ]
  },
  {
   "cell_type": "code",
   "execution_count": 66,
   "id": "27f69459-9b17-4389-b1b1-8a0c1f5cf3e6",
   "metadata": {},
   "outputs": [
    {
     "data": {
      "text/plain": [
       "<Axes: xlabel='Salary'>"
      ]
     },
     "execution_count": 66,
     "metadata": {},
     "output_type": "execute_result"
    },
    {
     "data": {
      "image/png": "[encoded data removed]",
      "text/plain": [
       "<Figure size 640x480 with 1 Axes>"
      ]
     },
     "metadata": {},
     "output_type": "display_data"
    }
   ],
   "source": [
    "sns.violinplot(x = 'Salary', data = df2)"
   ]
  },
  {
   "cell_type": "code",
   "execution_count": 69,
   "id": "fc11c793-ffac-4917-8553-65ba437a2c22",
   "metadata": {},
   "outputs": [],
   "source": [
    "df2.loc[(df2['Salary'] < Q1_salary - 1.5 * IQR_salary) | (df2['Salary'] > Q3_salary + 1.5 * IQR_salary),'Salary'] = median_sal"
   ]
  },
  {
   "cell_type": "code",
   "execution_count": 70,
   "id": "51659e2d-a944-40a9-8a95-9d04ee42c13f",
   "metadata": {},
   "outputs": [
    {
     "data": {
      "text/plain": [
       "<Axes: xlabel='Salary'>"
      ]
     },
     "execution_count": 70,
     "metadata": {},
     "output_type": "execute_result"
    },
    {
     "data": {
      "image/png": "[encoded data removed]",
      "text/plain": [
       "<Figure size 640x480 with 1 Axes>"
      ]
     },
     "metadata": {},
     "output_type": "display_data"
    }
   ],
   "source": [
    "sns.violinplot(x = 'Salary', data = df2)"
   ]
  },
  {
   "cell_type": "code",
   "execution_count": 71,
   "id": "8d47d3f2-f42e-47ac-be68-531b37ad306a",
   "metadata": {},
   "outputs": [
    {
     "data": {
      "text/plain": [
       "(998, 11)"
      ]
     },
     "execution_count": 71,
     "metadata": {},
     "output_type": "execute_result"
    }
   ],
   "source": [
    "df2.shape"
   ]
  }
 ],
 "metadata": {
  "kernelspec": {
   "display_name": "Python 3 (ipykernel)",
   "language": "python",
   "name": "python3"
  },
  "language_info": {
   "codemirror_mode": {
    "name": "ipython",
    "version": 3
   },
   "file_extension": ".py",
   "mimetype": "text/x-python",
   "name": "python",
   "nbconvert_exporter": "python",
   "pygments_lexer": "ipython3",
   "version": "3.13.5"
  }
 },
 "nbformat": 4,
 "nbformat_minor": 5
}
